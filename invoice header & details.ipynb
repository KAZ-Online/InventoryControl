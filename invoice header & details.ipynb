{
 "cells": [
  {
   "cell_type": "code",
   "execution_count": 4,
   "metadata": {},
   "outputs": [
    {
     "name": "stdout",
     "output_type": "stream",
     "text": [
      "<cx_Oracle.Cursor on <cx_Oracle.Connection to scott@127.0.0.1/orcl>>\n"
     ]
    }
   ],
   "source": [
    "import cx_Oracle as cx\n",
    "cn=cx.connect('scott/tiger@127.0.0.1/orcl')\n",
    "cur=cn.cursor()\n",
    "print(cur)\n"
   ]
  },
  {
   "cell_type": "code",
   "execution_count": 5,
   "metadata": {},
   "outputs": [
    {
     "name": "stdout",
     "output_type": "stream",
     "text": [
      "enter the invoice Id: 9\n",
      "enter the line no. 1\n",
      "enter the product Id2\n",
      "enter the quantity3\n",
      "(1, 1, 4, 3, 2400.0, 2280.0)\n",
      "(9, 1, 2, 3, 2100.0, 1995.0)\n",
      "Press Y/y to enter the header discountn\n",
      "(1, 2280.0, 2280.0, datetime.datetime(2020, 5, 4, 1, 31, 31))\n",
      "(9, 1995.0, 1995.0, datetime.datetime(2020, 5, 4, 1, 33, 33))\n"
     ]
    }
   ],
   "source": [
    "import datetime\n",
    "\n",
    "def invoice_header():\n",
    "    in_id=int(input(\"enter the invoice Id: \"))\n",
    "    InvDt=datetime.datetime.now()\n",
    "    header_para1=[in_id,InvDt]\n",
    "    \n",
    "    #print(header_para)\n",
    "    header_ins1='''\n",
    "    insert into tbl_sales_invoice_header(InvId,InvDt) values(:InvId,:InvDt)\n",
    "    '''\n",
    "    cur.execute(header_ins1,header_para1)\n",
    "    total_price=invoice_details(in_id)\n",
    "    req=input(\"Press Y/y to enter the header discount\")\n",
    "    if req=='y' or req=='Y':\n",
    "        disc=float(input(\"enter the discount\"))\n",
    "    else:\n",
    "        disc=0.0\n",
    "    header_discount=total_price-disc\n",
    "    header_para2=[total_price,header_discount,in_id]\n",
    "    header_ins2='''\n",
    "    update tbl_sales_invoice_header set InvTotalPrice=:InvTotalPrice, InvHeaderDisc=:InvHeaderDisc\n",
    "    where InvId=:InvId\n",
    "    '''\n",
    "    cur.execute(header_ins2,header_para2)\n",
    "    cn.commit()\n",
    "    header_rec=cur.execute('select * from tbl_sales_invoice_header')\n",
    "    for r in header_rec:\n",
    "        print(r)\n",
    "    \n",
    "def invoice_details(in_id):\n",
    "    #disc=5\n",
    "    InvId=in_id\n",
    "    LineNo=int(input(\"enter the line no. \"))\n",
    "    P_Id=int(input(\"enter the product Id\"))\n",
    "    ans=cur.execute('select ProdSellPrice from tbl_mst_product where ProdId='+str(P_Id))\n",
    "    price=ans.fetchone()\n",
    "    #print(price)\n",
    "    qty=int(input(\"enter the quantity\"))\n",
    "    sell_price=price[0]*qty\n",
    "    discount=sell_price-0.05*sell_price\n",
    "    #total_price=discount\n",
    "    inv_para=[InvId,LineNo,P_Id,qty,sell_price,discount]\n",
    "    inv_ins='''\n",
    "    insert into tbl_sales_invoice_details(InvId,LineNo,ProdId,Quantity,SellPrice,Discount)\n",
    "    values(:InvId,:LineNo,:ProdId,:Quantity,:SellPrice,:Discount)\n",
    "    '''\n",
    "    cur.execute(inv_ins,inv_para)\n",
    "    inv_rec=cur.execute('select * from tbl_sales_invoice_details order by InvId ASC')\n",
    "    for r in inv_rec:\n",
    "        print(r)\n",
    "    ans1=cur.execute('select sum(Discount) from tbl_sales_invoice_details where InvId='+str(in_id))\n",
    "    total_price=ans1.fetchone()\n",
    "    return(total_price[0])\n",
    "    \n",
    "\n",
    "    \n",
    "invoice_header()"
   ]
  },
  {
   "cell_type": "code",
   "execution_count": null,
   "metadata": {
    "collapsed": true
   },
   "outputs": [],
   "source": []
  }
 ],
 "metadata": {
  "kernelspec": {
   "display_name": "Python 3",
   "language": "python",
   "name": "python3"
  },
  "language_info": {
   "codemirror_mode": {
    "name": "ipython",
    "version": 3
   },
   "file_extension": ".py",
   "mimetype": "text/x-python",
   "name": "python",
   "nbconvert_exporter": "python",
   "pygments_lexer": "ipython3",
   "version": "3.6.1"
  }
 },
 "nbformat": 4,
 "nbformat_minor": 2
}
