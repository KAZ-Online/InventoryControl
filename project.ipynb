{
 "cells": [
  {
   "cell_type": "code",
   "execution_count": 32,
   "metadata": {},
   "outputs": [
    {
     "name": "stdout",
     "output_type": "stream",
     "text": [
      "<mysql.connector.connection.MySQLConnection object at 0x000001AEA2D3B1C8>\n"
     ]
    }
   ],
   "source": [
    "import mysql.connector\n",
    "\n",
    "db = mysql.connector.connect(\n",
    "    host=\"localhost\",\n",
    "    user=\"root\",\n",
    "    passwd=\"\",\n",
    "    database=\"product\"\n",
    ")\n",
    "\n",
    "print(db)"
   ]
  },
  {
   "cell_type": "code",
   "execution_count": 33,
   "metadata": {},
   "outputs": [],
   "source": [
    "mycursor = db.cursor()"
   ]
  },
  {
   "cell_type": "code",
   "execution_count": 34,
   "metadata": {},
   "outputs": [
    {
     "name": "stdout",
     "output_type": "stream",
     "text": [
      "('information_schema',)\n",
      "('mysql',)\n",
      "('performance_schema',)\n",
      "('product',)\n",
      "('sys',)\n"
     ]
    }
   ],
   "source": [
    "mycursor.execute(\"SHOW DATABASES\")\n",
    "for x in mycursor:\n",
    "    print(x)"
   ]
  },
  {
   "cell_type": "code",
   "execution_count": 35,
   "metadata": {},
   "outputs": [],
   "source": [
    "import datetime"
   ]
  },
  {
   "cell_type": "code",
   "execution_count": 65,
   "metadata": {},
   "outputs": [],
   "source": [
    "###insert"
   ]
  },
  {
   "cell_type": "code",
   "execution_count": 36,
   "metadata": {},
   "outputs": [],
   "source": [
    "def insert():\n",
    "    ProdID = int(input(\"Enter prodid\"))\n",
    "    ProdName = input(\"Enter ProdName \")\n",
    "    ProdDesc = input(\"Enter ProdDesc \")\n",
    "    ProdQty = int(input(\"Enter ProdQty\"))\n",
    "    ProdPurPrice = int(input(\"Enter ProdPurPrice\"))\n",
    "    ProdSellPrice = int(input(\"Enter ProdSellPrice\"))\n",
    "    ProdPurDate = datetime.datetime.now()\n",
    "    ins='''\n",
    "    insert into  product_table(ProdID,ProdName,ProdDesc,ProdQty,ProdPurPrice,ProdSellPrice,ProdPurDate)\n",
    "    '''\n",
    "    ins = ins + 'values('+str(ProdID)+','+'\\''+str(ProdName)+'\\''+','+'\\''+ProdDesc+'\\''+','+str(ProdQty)+','+str(ProdPurPrice)+','+str(ProdSellPrice)+',ProdPurDate)'\n",
    "    mycursor.execute(ins)\n",
    "    db.commit()"
   ]
  },
  {
   "cell_type": "code",
   "execution_count": 37,
   "metadata": {},
   "outputs": [],
   "source": [
    "def insert2():\n",
    "    CustID = int(input('Enter Cust'))\n",
    "    CustFullName = input('Enter CustFullName')\n",
    "    CustAddress  = input('Enter CustAddress ')\n",
    "    CustPhone  = int(input('Enter CustPhone '))\n",
    "    CustEmail  = input('Enter CustEmail ')\n",
    "    CustCreatedDT = datetime.datetime.now()\n",
    "    ins='''\n",
    "    insert into cust_table (CustID,CustFullName,CustAddress,CustPhone,CustEmail,CustCreatedDT)\n",
    "    '''\n",
    "    ins = ins + ' values('+str(CustID)+','+'\\''+str(CustFullName)+'\\''+','+'\\''+CustAddress+'\\''+','+str(CustPhone)+','+'\\''+CustEmail+'\\''+',CustCreatedDT) '\n",
    "    mycursor.execute(ins)\n",
    "    db.commit"
   ]
  },
  {
   "cell_type": "code",
   "execution_count": 38,
   "metadata": {},
   "outputs": [],
   "source": [
    "def insert3():\n",
    "    InvID = int(input(\"Enter InvID\"))\n",
    "    ProdID = int(input(\"Enter prodid\"))\n",
    "    ProdSellPrice = int(input(\"Enter ProdSellPrice\"))\n",
    "    mycursor.execute('insert into header_table(InvID,InvTotalPrice,InvHeaderDisc) select '+str(ProdID)+',Sum('+'\\''+str(ProdSellPrice)+'\\''+') as InvTotalPrice ,(20/100*Sum('+'\\''+str(ProdSellPrice)+'\\''+'))as InvHeaderDisc from product_table')\n",
    "    db.commit()"
   ]
  },
  {
   "cell_type": "code",
   "execution_count": 39,
   "metadata": {},
   "outputs": [],
   "source": [
    "def insert5():\n",
    "    InvID = int(input(\"Enter InvID\"))\n",
    "    Lineno =int(input(\"Enter the Lineno\"))\n",
    "    ProdID = int(input(\"Enter prodid\"))\n",
    "    Quantity = int(input(\"Enter the Qunatity\"))\n",
    "    SellPRice = int(input(\"Enter SellPRice\"))\n",
    "    Discount = int(SellPRice-Lineno)\n",
    "    mycursor.execute('insert into invoice_table(InvID,Lineno,ProdID,Quantity,SellPRice,Discount) values('+str(InvID)+','+str(Lineno)+','+str(ProdID)+','+str(Quantity)+','+str(SellPRice)+','+str(Discount)+')')\n",
    "    db.commit()"
   ]
  },
  {
   "cell_type": "code",
   "execution_count": 40,
   "metadata": {},
   "outputs": [],
   "source": [
    "def delete():\n",
    "    ProdID = int(input(\"Enter the ProdID\"))\n",
    "    mycursor.execute('delete from product_table where ProdID = '+str(ProdID)+'')\n",
    "    db.commit()"
   ]
  },
  {
   "cell_type": "code",
   "execution_count": 41,
   "metadata": {},
   "outputs": [],
   "source": [
    "def delete1():\n",
    "    CustID = int(input(\"Enter the CustID\"))\n",
    "    mycursor.execute('delete from cust_table where CustID ='+str(CustID)+'')\n",
    "    db.commit()\n",
    "       \n",
    "def delete2():\n",
    "    InvID = int(input(\"Enter the InvID\"))\n",
    "    mycursor.execute('delete from header_table where InvID ='+str(InvID)+'')\n",
    "    db.commit()"
   ]
  },
  {
   "cell_type": "code",
   "execution_count": 55,
   "metadata": {},
   "outputs": [],
   "source": [
    "def delete3():\n",
    "    InvID = int(input(\"Enter the InvID\"))\n",
    "    mycursor.execute('delete from invoice_table where InvID ='+str(InvID)+'')\n",
    "    db.commit()"
   ]
  },
  {
   "cell_type": "code",
   "execution_count": 42,
   "metadata": {},
   "outputs": [],
   "source": [
    "def update():\n",
    "    ProdID = int(input(\"Enter the prodID \"))\n",
    "    ProdName = input(\"Enter the name\")\n",
    "    mycursor.execute('update product_table set ProdName ='+'\\''+ProdName+'\\''+' where ProdID = '+str(ProdID)+'')\n",
    "    db.commit()"
   ]
  },
  {
   "cell_type": "code",
   "execution_count": 43,
   "metadata": {},
   "outputs": [],
   "source": [
    "def update1():\n",
    "    CustID = int(input(\"Enter the custid \"))\n",
    "    CustAddress = input(\"Enter the CustAddress\")\n",
    "    mycursor.execute('update cust_table set CustAddress='+'\\''+CustAddress+'\\''+' where CustID = '+str(CustID)+'')\n",
    "    db.commit()"
   ]
  },
  {
   "cell_type": "code",
   "execution_count": 44,
   "metadata": {},
   "outputs": [],
   "source": [
    "def insert5():\n",
    "    InvID = int(input(\"Enter InvID\"))\n",
    "    Lineno =int(input(\"Enter the Lineno\"))\n",
    "    ProdID = int(input(\"Enter prodid\"))\n",
    "    Quantity = int(input(\"Enter the Qunatity\"))\n",
    "    SellPRice = int(input(\"Enter SellPRice\"))\n",
    "    Discount = int(SellPRice-Lineno)\n",
    "    mycursor.execute('insert into invoice_table(InvID,Lineno,ProdID,Quantity,SellPRice,Discount) values('+str(InvID)+','+str(Lineno)+','+str(ProdID)+','+str(Quantity)+','+str(SellPRice)+','+str(Discount)+')')\n",
    "    db.commit()"
   ]
  },
  {
   "cell_type": "code",
   "execution_count": 48,
   "metadata": {},
   "outputs": [],
   "source": [
    "def insert5():\n",
    "    InvID = input(\"Enter InvID\")\n",
    "    for inv in InvID:\n",
    "        insert()\n",
    "    Lineno =int(input(\"Enter the Lineno\"))\n",
    "    ProdID = int(input(\"Enter prodid\"))\n",
    "    Quantity = int(input(\"Enter the Qunatity\"))\n",
    "    SellPRice = int(input(\"Enter SellPRice\"))\n",
    "    Discount = int(SellPRice-Lineno)\n",
    "    mycursor.execute('insert into invoice_table(InvID,Lineno,ProdID,Quantity,SellPRice,Discount) values('+str(InvID)+','+str(Lineno)+','+str(ProdID)+','+str(Quantity)+','+str(SellPRice)+','+str(Discount)+')')\n",
    "    db.commit()"
   ]
  },
  {
   "cell_type": "markdown",
   "metadata": {},
   "source": [
    "def product():\n",
    "    print('1. New Product')\n",
    "    print('2. Delete Product')\n",
    "    print('3. Update product')\n",
    "    ans=int(input('Select the option'))\n",
    "    if ans==1:\n",
    "        insert()\n",
    "    elif ans==2:\n",
    "        delete()\n",
    "    elif ans==3:\n",
    "        update()\n",
    "    elif ans==4:\n",
    "        pass\n",
    "    else:\n",
    "        return"
   ]
  },
  {
   "cell_type": "code",
   "execution_count": 68,
   "metadata": {},
   "outputs": [],
   "source": [
    "def inventry():\n",
    "    print('1. Product')\n",
    "    print('2. Customer')\n",
    "    print('3. Header')\n",
    "    print('4. Invoice')\n",
    "    ans=int(input('Select the options'))\n",
    "    if ans == 1:\n",
    "        product()\n",
    "    elif ans == 2:\n",
    "        customer()\n",
    "    elif ans == 3:\n",
    "        header()\n",
    "    elif ans==4:\n",
    "        invoice()\n",
    "    elif ans==5:\n",
    "        pass\n",
    "    else:\n",
    "        return"
   ]
  },
  {
   "cell_type": "code",
   "execution_count": 69,
   "metadata": {},
   "outputs": [],
   "source": [
    "def product():\n",
    "    print('1. New Product')\n",
    "    print('2. Delete Product')\n",
    "    print('3. Update product')\n",
    "    ans=int(input('Select the option'))\n",
    "    if ans==1:\n",
    "        insert()\n",
    "        print('Record inserted')\n",
    "    elif ans==2:\n",
    "        delete()\n",
    "    elif ans==3:\n",
    "        update()\n",
    "    elif ans==4:\n",
    "        with open('C:/Users/ROHIT/Downloads/product_table.csv', newline='') as csvfile:\n",
    "            spamreader = csv.reader(csvfile, delimiter=' ', quotechar='|')\n",
    "            for row in spamreader:\n",
    "                print(', '.join(row))\n",
    "    elif ans==5:\n",
    "        pass\n",
    "    else:\n",
    "        return\n"
   ]
  },
  {
   "cell_type": "code",
   "execution_count": 57,
   "metadata": {},
   "outputs": [],
   "source": [
    "def customer():\n",
    "    print('1. New Customer')\n",
    "    print('2. Delete customer')\n",
    "    print('3 . Update Customer')\n",
    "    ans= int(input('Select the option'))\n",
    "    if ans==1:\n",
    "        insert2()\n",
    "        print('Record inserted')\n",
    "    elif ans==2:\n",
    "        delete1()\n",
    "    elif ans==3:\n",
    "        update1()\n",
    "    elif ans==4:\n",
    "         with open('C:/Users/ROHIT/Downloads/cust_table.csv', newline='') as csvfile:\n",
    "            spamreader = csv.reader(csvfile, delimiter=' ', quotechar='|')\n",
    "            for row in spamreader:\n",
    "                print(', '.join(row))\n",
    "    elif ans==5:\n",
    "        pass\n",
    "    else:\n",
    "        return\n"
   ]
  },
  {
   "cell_type": "code",
   "execution_count": 59,
   "metadata": {},
   "outputs": [],
   "source": [
    "def header():\n",
    "    print('1. New InvID')\n",
    "    print('2. Delete InvID')\n",
    "    ans=int(input('Select the option'))\n",
    "    if ans==1:\n",
    "        insert3()\n",
    "        print('Record inserted')\n",
    "    elif ans==2:\n",
    "        delete2()\n",
    "    elif ans==3:\n",
    "        with open('C:/Users/ROHIT/Downloads/header_table.csv', newline='') as csvfile:\n",
    "            spamreader = csv.reader(csvfile, delimiter=' ', quotechar='|')\n",
    "            for row in spamreader:\n",
    "                print(', '.join(row))\n",
    "    elif ans==4:\n",
    "        pass\n",
    "    else:\n",
    "        return"
   ]
  },
  {
   "cell_type": "code",
   "execution_count": 70,
   "metadata": {},
   "outputs": [],
   "source": [
    "def invoice():\n",
    "    print('1. New Invoice')\n",
    "    print('2. delete Invoice')\n",
    "    ans=int(input('Select the option'))\n",
    "    if ans==1:\n",
    "        insert5()\n",
    "        print('Record inserted')\n",
    "    elif ans==2:\n",
    "        delete3()\n",
    "    elif ans==3:\n",
    "        with open('C:/Users/ROHIT/Downloads/invoice_table.csv', newline='') as csvfile:\n",
    "            spamreader = csv.reader(csvfile, delimiter=' ', quotechar='|')\n",
    "            for row in spamreader:\n",
    "                print(', '.join(row))\n",
    "    elif ans==4:\n",
    "        pass\n",
    "    else:\n",
    "        return"
   ]
  },
  {
   "cell_type": "code",
   "execution_count": 72,
   "metadata": {},
   "outputs": [],
   "source": [
    "def inventry():\n",
    "    print('1. Product')\n",
    "    print('2. Customer')\n",
    "    print('3. Header')\n",
    "    print('4. Invoice')\n",
    "    ans=int(input('Select the options'))\n",
    "    if ans == 1:\n",
    "        product()\n",
    "    elif ans == 2:\n",
    "        customer()\n",
    "    elif ans == 3:\n",
    "        header()\n",
    "    elif ans==4:\n",
    "        invoice()\n",
    "    elif ans==5:\n",
    "        pass\n",
    "    else:\n",
    "        return"
   ]
  },
  {
   "cell_type": "code",
   "execution_count": 73,
   "metadata": {},
   "outputs": [
    {
     "name": "stdout",
     "output_type": "stream",
     "text": [
      "1. Product\n",
      "2. Customer\n",
      "3. Header\n",
      "4. Invoice\n",
      "Select the options2\n",
      "1. New Customer\n",
      "2. Delete customer\n",
      "3 . Update Customer\n",
      "Select the option1\n",
      "Enter Cust1\n",
      "Enter CustFullNamedfsd\n",
      "Enter CustAddress dfs\n",
      "Enter CustPhone 454\n",
      "Enter CustEmail ds\n"
     ]
    }
   ],
   "source": [
    "inventry()"
   ]
  },
  {
   "cell_type": "code",
   "execution_count": null,
   "metadata": {},
   "outputs": [],
   "source": []
  }
 ],
 "metadata": {
  "kernelspec": {
   "display_name": "Python 3",
   "language": "python",
   "name": "python3"
  },
  "language_info": {
   "codemirror_mode": {
    "name": "ipython",
    "version": 3
   },
   "file_extension": ".py",
   "mimetype": "text/x-python",
   "name": "python",
   "nbconvert_exporter": "python",
   "pygments_lexer": "ipython3",
   "version": "3.7.6"
  }
 },
 "nbformat": 4,
 "nbformat_minor": 4
}
