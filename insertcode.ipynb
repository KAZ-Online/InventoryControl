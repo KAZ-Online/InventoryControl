{
 "cells": [
  {
   "cell_type": "code",
   "execution_count": 4,
   "metadata": {},
   "outputs": [
    {
     "name": "stdout",
     "output_type": "stream",
     "text": [
      "<mysql.connector.connection.MySQLConnection object at 0x000002172E987788>\n"
     ]
    }
   ],
   "source": [
    "import mysql.connector\n",
    "\n",
    "db = mysql.connector.connect(\n",
    "    host=\"localhost\",\n",
    "    user=\"root\",\n",
    "    passwd=\"\",\n",
    "    database=\"product\"\n",
    ")\n",
    "\n",
    "print(db)\n",
    "mycursor = db.cursor()"
   ]
  },
  {
   "cell_type": "code",
   "execution_count": 2,
   "metadata": {},
   "outputs": [],
   "source": [
    "def insert2():\n",
    "    CustID = int(input('Enter Cust'))\n",
    "    CustFullName = input('Enter CustFullName')\n",
    "    CustAddress  = input('Enter CustAddress ')\n",
    "    CustPhone  = int(input('Enter CustPhone '))\n",
    "    CustEmail  = input('Enter CustEmail ')\n",
    "    CustCreatedDT = datetime.datetime.now()\n",
    "    ins='''\n",
    "    insert into cust_table (CustID,CustFullName,CustAddress,CustPhone,CustEmail,CustCreatedDT)\n",
    "    '''\n",
    "    ins = ins + ' values('+str(CustID)+','+'\\''+str(CustFullName)+'\\''+','+'\\''+CustAddress+'\\''+','+str(CustPhone)+','+'\\''+CustEmail+'\\''+',CustCreatedDT) '\n",
    "    mycursor.execute(ins)\n",
    "    db.commit"
   ]
  },
  {
   "cell_type": "code",
   "execution_count": 2,
   "metadata": {},
   "outputs": [],
   "source": [
    "import datetime\n",
    "def insert():\n",
    "    ProdID = int(input(\"Enter prodid\"))\n",
    "    ProdName = input(\"Enter ProdName \")\n",
    "    ProdDesc = input(\"Enter ProdDesc \")\n",
    "    ProdQty = int(input(\"Enter ProdQty\"))\n",
    "    ProdPurPrice = int(input(\"Enter ProdPurPrice\"))\n",
    "    ProdSellPrice = int(input(\"Enter ProdSellPrice\"))\n",
    "    ProdPurDate = int(input(\"Enter the date\"))\n",
    "    ins='''\n",
    "    insert into  product_table(ProdID,ProdName,ProdDesc,ProdQty,ProdPurPrice,ProdSellPrice,ProdPurDate)\n",
    "    '''\n",
    "    ins = ins + 'values('+str(ProdID)+','+'\\''+str(ProdName)+'\\''+','+'\\''+ProdDesc+'\\''+','+str(ProdQty)+','+str(ProdPurPrice)+','+str(ProdSellPrice)+','+str(ProdPurDate)+')'\n",
    "    mycursor.execute(ins)\n",
    "    db.commit()"
   ]
  },
  {
   "cell_type": "code",
   "execution_count": 5,
   "metadata": {},
   "outputs": [],
   "source": [
    "def insert3():\n",
    "    InvID = int(input(\"Enter InvID\"))\n",
    "    ProdID = int(input(\"Enter prodid\"))\n",
    "    ProdSellPrice = int(input(\"Enter ProdSellPrice\"))\n",
    "    mycursor.execute('insert into header_table(InvID,InvTotalPrice,InvHeaderDisc) select '+str(ProdID)+',Sum('+'\\''+str(ProdSellPrice)+'\\''+') as InvTotalPrice ,(20/100*Sum('+'\\''+str(ProdSellPrice)+'\\''+'))as InvHeaderDisc from product_table')\n",
    "    db.commit()"
   ]
  },
  {
   "cell_type": "code",
   "execution_count": 1,
   "metadata": {},
   "outputs": [],
   "source": [
    "  "
   ]
  },
  {
   "cell_type": "code",
   "execution_count": null,
   "metadata": {},
   "outputs": [],
   "source": [
    "def insert5():\n",
    "    InvID = int(input(\"Enter InvID\"))\n",
    "    Lineno =int(input(\"Enter the Lineno\"))\n",
    "    ProdID = int(input(\"Enter prodid\"))\n",
    "    Quantity = int(input(\"Enter the Qunatity\"))\n",
    "    SellPRice = int(input(\"Enter SellPRice\"))\n",
    "    Discount = int(SellPRice-Lineno)\n",
    "    mycursor.execute('insert into invoice_table(InvID,Lineno,ProdID,Quantity,SellPRice,Discount) values('+str(InvID)+','+str(Lineno)+','+str(ProdID)+','+str(Quantity)+','+str(SellPRice)+','+str(Discount)+')')\n",
    "    db.commit()"
   ]
  }
 ],
 "metadata": {
  "kernelspec": {
   "display_name": "Python 3",
   "language": "python",
   "name": "python3"
  },
  "language_info": {
   "codemirror_mode": {
    "name": "ipython",
    "version": 3
   },
   "file_extension": ".py",
   "mimetype": "text/x-python",
   "name": "python",
   "nbconvert_exporter": "python",
   "pygments_lexer": "ipython3",
   "version": "3.7.6"
  }
 },
 "nbformat": 4,
 "nbformat_minor": 4
}
