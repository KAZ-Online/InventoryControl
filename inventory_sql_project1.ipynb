{
 "cells": [
  {
   "cell_type": "code",
   "execution_count": 1,
   "metadata": {},
   "outputs": [
    {
     "name": "stdout",
     "output_type": "stream",
     "text": [
      "<cx_Oracle.Cursor on <cx_Oracle.Connection to scott@127.0.0.1/orcl>>\n"
     ]
    }
   ],
   "source": [
    "import cx_Oracle as cx\n",
    "cn=cx.connect('scott/tiger@127.0.0.1/orcl')\n",
    "cur=cn.cursor()\n",
    "print(cur)"
   ]
  },
  {
   "cell_type": "code",
   "execution_count": 5,
   "metadata": {},
   "outputs": [
    {
     "name": "stdout",
     "output_type": "stream",
     "text": [
      "eneter product ID: 01\n",
      "enter the product name: robot\n",
      "enter the decription of product: battery oriented product\n",
      "eneter the quantity: 20\n",
      "product purchase price: 350.90\n",
      "product selling price: 599.00\n"
     ]
    }
   ],
   "source": [
    "import datetime\n",
    "def product_details():\n",
    "    ProdId=int(input(\"eneter product ID: \"))\n",
    "    ProdName=input(\"enter the product name: \")\n",
    "    ProdDesc=input(\"enter the decription of product: \")\n",
    "    ProdQty=int(input(\"eneter the quantity: \"))\n",
    "    ProdPurPrice=float(input(\"product purchase price: \"))\n",
    "    ProdSellPrice=float(input(\"product selling price: \"))\n",
    "    ProdPurDate=datetime.datetime.now()\n",
    "    return(ProdId,ProdName,ProdDesc,ProdQty,ProdPurPrice,ProdSellPrice,ProdPurDate)\n",
    "product_para=[]\n",
    "product_para=product_details()\n",
    "#print(l)\n",
    "product_ins=''' \n",
    "insert into  tbl_mst_product(ProdId,ProdName,ProdDesc,ProdQty,ProdPurPrice,ProdSellPrice,ProdPurDate) \n",
    "values(:ProdId,:ProdName,:ProdDesc,:ProdQty,:ProdPurPrice,:ProdSellPrice,:ProdPurDate)\n",
    "'''\n",
    "cur.execute(product_ins,product_para)"
   ]
  },
  {
   "cell_type": "code",
   "execution_count": 7,
   "metadata": {},
   "outputs": [
    {
     "name": "stdout",
     "output_type": "stream",
     "text": [
      "(1, 'robot', 'battery oriented product', 20, 350.9, 599.0, datetime.datetime(2020, 5, 1, 20, 18, 32))\n"
     ]
    }
   ],
   "source": [
    "product_rec= cur.execute('select * from tbl_mst_product')\n",
    "for r in product_rec:\n",
    "    print(r)\n",
    "\n",
    "cn.commit()\n",
    "    "
   ]
  },
  {
   "cell_type": "code",
   "execution_count": null,
   "metadata": {
    "collapsed": true
   },
   "outputs": [],
   "source": []
  }
 ],
 "metadata": {
  "kernelspec": {
   "display_name": "Python 3",
   "language": "python",
   "name": "python3"
  },
  "language_info": {
   "codemirror_mode": {
    "name": "ipython",
    "version": 3
   },
   "file_extension": ".py",
   "mimetype": "text/x-python",
   "name": "python",
   "nbconvert_exporter": "python",
   "pygments_lexer": "ipython3",
   "version": "3.6.1"
  }
 },
 "nbformat": 4,
 "nbformat_minor": 2
}
