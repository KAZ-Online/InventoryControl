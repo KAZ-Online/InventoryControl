{
 "cells": [
  {
   "cell_type": "code",
   "execution_count": 2,
   "metadata": {},
   "outputs": [
    {
     "name": "stdout",
     "output_type": "stream",
     "text": [
      "<cx_Oracle.Cursor on <cx_Oracle.Connection to scott@127.0.0.1/orcl>>\n"
     ]
    }
   ],
   "source": [
    "import cx_Oracle as cx\n",
    "cn=cx.connect('scott/tiger@127.0.0.1/orcl')\n",
    "cur=cn.cursor()\n",
    "\n",
    "print(cur)"
   ]
  },
  {
   "cell_type": "code",
   "execution_count": null,
   "metadata": {
    "collapsed": true
   },
   "outputs": [],
   "source": [
    "import datetime\n",
    "def product_details():\n",
    "    ProdId=int(input(\"eneter product ID: \"))\n",
    "    ProdName=input(\"enter the product name: \")\n",
    "    ProdDesc=input(\"enter the decription of product: \")\n",
    "    ProdQty=int(input(\"eneter the quantity: \"))\n",
    "    ProdPurPrice=float(input(\"product purchase price: \"))\n",
    "    ProdSellPrice=float(input(\"product selling price: \"))\n",
    "    ProdPurDate=datetime.datetime.now()\n",
    "    return(ProdId,ProdName,ProdDesc,ProdQty,ProdPurPrice,ProdSellPrice,ProdPurDate)\n",
    "def product_exe():\n",
    "    product_para=[]\n",
    "    product_para=product_details()\n",
    "    product_ins=''' \n",
    "    insert into  tbl_mst_product(ProdId,ProdName,ProdDesc,ProdQty,ProdPurPrice,ProdSellPrice,ProdPurDate) \n",
    "    values(:ProdId,:ProdName,:ProdDesc,:ProdQty,:ProdPurPrice,:ProdSellPrice,:ProdPurDate)\n",
    "    '''    \n",
    "    cur.execute(product_ins,product_para)\n",
    "    product_rec= cur.execute('select * from tbl_mst_product order by ProdId ASC')\n",
    "    for r in product_rec:\n",
    "        print(r)\n",
    "    cn.commit()\n",
    "\n",
    "product_exe()"
   ]
  },
  {
   "cell_type": "code",
   "execution_count": 3,
   "metadata": {},
   "outputs": [
    {
     "name": "stdout",
     "output_type": "stream",
     "text": [
      "eneter customer ID: 4\n",
      "enter full name: poorva\n",
      "enter customer address: jaipur, rjasthan\n",
      "enter the phone number5671234890\n",
      "enter customer email: poos@gmail.com\n",
      "(1, 'sakshi', 'jaipur, rajasthan', 123456789, datetime.datetime(2020, 5, 2, 2, 29, 58), 'sak@gmail.com')\n",
      "(2, 'aditi', 'bangalore', 3456789120, datetime.datetime(2020, 5, 2, 2, 32, 20), 'adis@gmail.com')\n",
      "(3, 'shweta', 'gurgaon', 5678901234, datetime.datetime(2020, 5, 2, 2, 33, 51), 'swag@gmail.com')\n",
      "(8, 'abscd', 'hyderabad', 789123546, datetime.datetime(2020, 5, 3, 15, 14, 56), 'pqrs@gmail.com')\n",
      "(4, 'poorva', 'jaipur, rjasthan', 5671234890, datetime.datetime(2020, 5, 3, 19, 14, 33), 'poos@gmail.com')\n"
     ]
    }
   ],
   "source": [
    "import datetime\n",
    "def customer_details():\n",
    "    CustId=int(input(\"eneter customer ID: \"))\n",
    "    CustFullName=input(\"enter full name: \")\n",
    "    CustAdd=input(\"enter customer address: \")\n",
    "    CustPhone=int(input(\"enter the phone number\"))\n",
    "    CustCreatedDt=datetime.datetime.now()\n",
    "    CustEmail=input(\"enter customer email: \")\n",
    "    return(CustId,CustFullName,CustAdd,CustPhone,CustEmail,CustCreatedDt)\n",
    "def customer_exe():\n",
    "    customer_para=[]\n",
    "    customer_para=customer_details()\n",
    "    #print(customer_para)\n",
    "    customer_ins='''\n",
    "    insert into tbl_mst_customer(CustId,CustFullName,CustAdd,CustPhone,CustEmail,CustCreatedDt) \n",
    "    values(:CustId,:CustFullName,:CustAdd,:CustPhone,:CustEmail,:CustCreatedDt)\n",
    "    '''\n",
    "    cur.execute(customer_ins,customer_para)\n",
    "    customer_rec=cur.execute('select * from tbl_mst_customer')\n",
    "    for r in customer_rec:\n",
    "        print(r)\n",
    "    cn.commit()\n",
    "    \n",
    "customer_exe()"
   ]
  },
  {
   "cell_type": "code",
   "execution_count": null,
   "metadata": {
    "collapsed": true
   },
   "outputs": [],
   "source": []
  },
  {
   "cell_type": "code",
   "execution_count": null,
   "metadata": {
    "collapsed": true
   },
   "outputs": [],
   "source": []
  },
  {
   "cell_type": "code",
   "execution_count": null,
   "metadata": {},
   "outputs": [],
   "source": [
    "\n"
   ]
  },
  {
   "cell_type": "code",
   "execution_count": null,
   "metadata": {
    "collapsed": true
   },
   "outputs": [],
   "source": []
  },
  {
   "cell_type": "code",
   "execution_count": null,
   "metadata": {
    "collapsed": true
   },
   "outputs": [],
   "source": []
  }
 ],
 "metadata": {
  "kernelspec": {
   "display_name": "Python 3",
   "language": "python",
   "name": "python3"
  },
  "language_info": {
   "codemirror_mode": {
    "name": "ipython",
    "version": 3
   },
   "file_extension": ".py",
   "mimetype": "text/x-python",
   "name": "python",
   "nbconvert_exporter": "python",
   "pygments_lexer": "ipython3",
   "version": "3.6.1"
  }
 },
 "nbformat": 4,
 "nbformat_minor": 2
}
