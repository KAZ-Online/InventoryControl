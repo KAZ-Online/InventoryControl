{
 "cells": [
  {
   "cell_type": "markdown",
   "metadata": {},
   "source": [
    "## oracle connection"
   ]
  },
  {
   "cell_type": "code",
   "execution_count": 1,
   "metadata": {},
   "outputs": [],
   "source": [
    "import cx_Oracle as cx"
   ]
  },
  {
   "cell_type": "code",
   "execution_count": 2,
   "metadata": {},
   "outputs": [],
   "source": [
    "cn=cx.connect('system/manager@127.0.0.1:1521/orcl')"
   ]
  },
  {
   "cell_type": "code",
   "execution_count": 3,
   "metadata": {},
   "outputs": [],
   "source": [
    "cur=cn.cursor()"
   ]
  },
  {
   "cell_type": "markdown",
   "metadata": {},
   "source": [
    "## Products_Table"
   ]
  },
  {
   "cell_type": "code",
   "execution_count": null,
   "metadata": {},
   "outputs": [],
   "source": [
    "def insert_products_details(p_id,p_name,p_desc,p_quant,p_cp,p_sp,purch_date):\n",
    "    \n",
    "    prod_details='insert into PRODUCTS_TABLE(Prod_id,prod_name,prod_desc,prod_quantity,cost_price,selling_price,purchase_date) values(:1,:2,:3,:4,:5,:6,:7)'\n",
    "    para=[p_id,p_name,p_desc,p_quant,p_cp,p_sp,purch_date]\n",
    "    cur.execute(prod_details,para)\n",
    "    cn.commit()\n",
    "    print('Record inserted')\n",
    "                           "
   ]
  },
  {
   "cell_type": "code",
   "execution_count": null,
   "metadata": {},
   "outputs": [],
   "source": [
    "from dateutil.parser import parse\n",
    "datetime = parse('2018-06-29')\n",
    "insert_products_details(1,'Dress','Polyester material and machine wash',5,1000,1500,datetime)\n"
   ]
  },
  {
   "cell_type": "code",
   "execution_count": null,
   "metadata": {},
   "outputs": [],
   "source": [
    "from dateutil.parser import parse\n",
    "d2=parse('2019-06-29')\n",
    "insert_products_details(2,'Shoes','Shoes for all',6,1500,1700,d2)\n",
    "d3=parse('2019-09-29')\n",
    "insert_products_details(3,'Belts','Leather',4,500,550,d3)"
   ]
  },
  {
   "cell_type": "code",
   "execution_count": null,
   "metadata": {},
   "outputs": [],
   "source": [
    "d4=parse('2019-06-29')\n",
    "insert_products_details(4,'Pants','Cotton & machine wash',5,800,950,d4)\n",
    "d5=parse('2019-09-15')\n",
    "insert_products_details(5,'Saari','Silk & Dry clean',4,3000,4000,d5)\n",
    "d6=parse('2019-06-29')\n",
    "insert_products_details(6,'Suit','Georgette',6,2000,2800,d6)\n",
    "d7=parse('2019-09-29')\n",
    "insert_products_details(7,'Watch','Quartz & Analogue',2,3000,3500,d7)\n",
    "d8=parse('2019-06-15')\n",
    "insert_products_details(8,'Handbag','PU & Sling',6,600,850,d8)\n",
    "d9=parse('2019-09-17')\n",
    "insert_products_details(9,'Tops','Georgette',4,800,1100,d9)"
   ]
  },
  {
   "cell_type": "code",
   "execution_count": null,
   "metadata": {},
   "outputs": [],
   "source": [
    "prod=cur.execute('Select * from PRODUCTS_TABLE')\n",
    "for p in prod:\n",
    "    print(p)"
   ]
  },
  {
   "cell_type": "markdown",
   "metadata": {},
   "source": [
    "## Customers_Table"
   ]
  },
  {
   "cell_type": "code",
   "execution_count": null,
   "metadata": {},
   "outputs": [],
   "source": [
    "def insert_customers_details(c_id,c_name,c_address,c_email,c_phn):\n",
    "    \n",
    "    cust_details='insert into CUSTOMERS_TABLE(cust_id,cust_fullname,cust_address,cust_email,cust_contact) values(:1,:2,:3,:4,:5)'\n",
    "    para=[c_id,c_name,c_address,c_email,9898898]\n",
    "    cur.execute(cust_details,para)\n",
    "    cn.commit()\n",
    "    print('Record inserted')\n",
    "                           "
   ]
  },
  {
   "cell_type": "code",
   "execution_count": null,
   "metadata": {},
   "outputs": [],
   "source": [
    "insert_customers_details(7,'Jn2 Sehgal','Noida','jatinsehgal1989@gmail.com',9958909764)"
   ]
  },
  {
   "cell_type": "code",
   "execution_count": null,
   "metadata": {},
   "outputs": [],
   "source": [
    "insert_customers_details(1,'Jatin Sehgal','Noida','jatin.sehgal@gmail.com',9958909764)"
   ]
  },
  {
   "cell_type": "code",
   "execution_count": null,
   "metadata": {},
   "outputs": [],
   "source": [
    "insert_customers_details(2,'Vanya Mehta','karnal','vanya.mehta@gmail.com',9996653150)\n",
    "insert_customers_details(3,'vanshaj mehta','sirsa','vanshaj.dudeja@gmail.com',8901511174)\n"
   ]
  },
  {
   "cell_type": "code",
   "execution_count": null,
   "metadata": {},
   "outputs": [],
   "source": [
    "insert_customers_details(4,'Deepa Sehgal','Delhi','deepa.sehgal@gmail.com',8765943234)\n",
    "insert_customers_details(5,'sonia gumber','Gurgaon','sonia.gumber@gmail.com',9876511174)"
   ]
  },
  {
   "cell_type": "markdown",
   "metadata": {},
   "source": [
    "## Sales_Invoice_table"
   ]
  },
  {
   "cell_type": "code",
   "execution_count": null,
   "metadata": {},
   "outputs": [],
   "source": [
    "def getprice(p_id):\n",
    "    dbprice=cur.execute('select selling_price from PRODUCTS_TABLE where prod_id='+str(p_id) )\n",
    "    p=dbprice.fetchone()  \n",
    "    return(int(p[0]) )"
   ]
  },
  {
   "cell_type": "code",
   "execution_count": null,
   "metadata": {},
   "outputs": [],
   "source": [
    "def getdiscount(p_id):\n",
    "    d=cur.execute('select dis from DISCOUNT_TABLE where prod_id='+str(p_id))\n",
    "    dis=d.fetchone()  \n",
    "    return(int(dis[0]) )"
   ]
  },
  {
   "cell_type": "code",
   "execution_count": null,
   "metadata": {},
   "outputs": [],
   "source": [
    "def insert_invoice_details(Inv_id,sr_no,p_id,q): \n",
    "    p1 = getprice(p_id)\n",
    "    price=p1*q  \n",
    "    d1=getdiscount(p_id)\n",
    "    disc_price=(d1/100)*price\n",
    "    sp=price-disc_price\n",
    "    #print('R1')\n",
    "    invoice_details='insert into SALES_INVOICE_TABLE(INV_ID,line_no,PROD_ID,quantity,mrp,DISCOUNT,sell_price) values(:1,:2,:3,:4,:5,:6,:7)'\n",
    "    #print('R2')\n",
    "    para=[Inv_id,sr_no,p_id,q,price,disc_price,sp]\n",
    "    #print('R3')\n",
    "    cur.execute(invoice_details,para)\n",
    "    #print('R4')\n",
    "    cn.commit()\n",
    "    print('Record inserted')"
   ]
  },
  {
   "cell_type": "code",
   "execution_count": null,
   "metadata": {},
   "outputs": [],
   "source": [
    "insert_invoice_details('INV001',1,1,2)"
   ]
  },
  {
   "cell_type": "code",
   "execution_count": null,
   "metadata": {},
   "outputs": [],
   "source": [
    "insert_invoice_details('INV001',2,2,1)\n",
    "insert_invoice_details('INV002',1,3,1)\n",
    "insert_invoice_details('INV002',2,6,2)\n",
    "insert_invoice_details('INV002',3,7,1)\n",
    "\n",
    "insert_invoice_details('INV003',1,5,2)\n",
    "insert_invoice_details('INV003',2,6,1)\n",
    "\n",
    "insert_invoice_details('INV004',1,1,2)\n",
    "insert_invoice_details('INV004',2,5,1)\n",
    "insert_invoice_details('INV004',3,6,1)\n",
    "insert_invoice_details('INV004',4,8,2)"
   ]
  },
  {
   "cell_type": "code",
   "execution_count": null,
   "metadata": {},
   "outputs": [],
   "source": [
    "insert_invoice_details('INV005',1,2,1)\n",
    "insert_invoice_details('INV005',2,3,1)\n",
    "insert_invoice_details('INV005',3,4,2)\n",
    "insert_invoice_details('INV005',4,9,3)"
   ]
  },
  {
   "cell_type": "markdown",
   "metadata": {},
   "source": [
    "## update_Sales_header_table"
   ]
  },
  {
   "cell_type": "code",
   "execution_count": 4,
   "metadata": {},
   "outputs": [],
   "source": [
    "def find_head_disc():\n",
    "    ques=input('Do you want to give Header discount')\n",
    "    if ques=='Y' or ques=='y':\n",
    "        amt=int(input('enter amount for discount'))\n",
    "    else:\n",
    "        amt=0\n",
    "    return(amt)"
   ]
  },
  {
   "cell_type": "code",
   "execution_count": 5,
   "metadata": {},
   "outputs": [],
   "source": [
    "def get_inv_price(In_id):\n",
    "    val = 'select sum(sell_price) from SALES_INVOICE_TABLE where Inv_id=\\''+In_id+'\\'';\n",
    "    p=cur.execute(val)\n",
    "    tp=p.fetchone()   \n",
    "    return(int(tp[0]))\n",
    "    \n",
    "    "
   ]
  },
  {
   "cell_type": "code",
   "execution_count": null,
   "metadata": {},
   "outputs": [],
   "source": [
    "get_inv_price('INV001')"
   ]
  },
  {
   "cell_type": "code",
   "execution_count": null,
   "metadata": {},
   "outputs": [],
   "source": [
    "find_head_disc()"
   ]
  },
  {
   "cell_type": "code",
   "execution_count": 6,
   "metadata": {},
   "outputs": [],
   "source": [
    "def update_header_details(In_id,In_dt):\n",
    "    total_price=get_inv_price(In_id)\n",
    "    \n",
    "    h_disc=find_head_disc()\n",
    "    \n",
    "    final_amt=total_price-h_disc    \n",
    "    header_details='update SALES_HEADER_TABLE set total_inv_sp=:2,INV_DATE=:3,HEADER_DISCOUNT=:4,final_sp=:5 where INV_ID =\\''+In_id+'\\' '\n",
    "    \n",
    "    para=[total_price,In_dt,h_disc,final_amt]\n",
    "    \n",
    "    cur.execute(header_details,para)\n",
    "    #\n",
    "    cn.commit()\n",
    "    print('Record inserted')"
   ]
  },
  {
   "cell_type": "code",
   "execution_count": 7,
   "metadata": {},
   "outputs": [
    {
     "name": "stdout",
     "output_type": "stream",
     "text": [
      "Do you want to give Header discountn\n",
      "Record inserted\n"
     ]
    }
   ],
   "source": [
    "update_header_details('INV001','09-Apr-2020')"
   ]
  },
  {
   "cell_type": "code",
   "execution_count": 10,
   "metadata": {},
   "outputs": [
    {
     "name": "stdout",
     "output_type": "stream",
     "text": [
      "Do you want to give Header discounty\n",
      "enter amount for discount15\n",
      "Record inserted\n"
     ]
    }
   ],
   "source": [
    "update_header_details('INV002','15-Apr-2020')"
   ]
  },
  {
   "cell_type": "code",
   "execution_count": 17,
   "metadata": {},
   "outputs": [
    {
     "name": "stdout",
     "output_type": "stream",
     "text": [
      "Do you want to give Header discountn\n",
      "Record inserted\n"
     ]
    }
   ],
   "source": [
    "update_header_details('INV003','15-Apr-2020')"
   ]
  },
  {
   "cell_type": "code",
   "execution_count": 15,
   "metadata": {},
   "outputs": [
    {
     "name": "stdout",
     "output_type": "stream",
     "text": [
      "Do you want to give Header discounty\n",
      "enter amount for discount20\n",
      "Record inserted\n"
     ]
    }
   ],
   "source": [
    "update_header_details('INV004','28-Apr-2020')"
   ]
  },
  {
   "cell_type": "code",
   "execution_count": 16,
   "metadata": {},
   "outputs": [
    {
     "name": "stdout",
     "output_type": "stream",
     "text": [
      "Do you want to give Header discounty\n",
      "enter amount for discount55\n",
      "Record inserted\n"
     ]
    }
   ],
   "source": [
    "update_header_details('INV005','29-Apr-2020')"
   ]
  },
  {
   "cell_type": "code",
   "execution_count": null,
   "metadata": {},
   "outputs": [],
   "source": []
  }
 ],
 "metadata": {
  "kernelspec": {
   "display_name": "Python 3",
   "language": "python",
   "name": "python3"
  },
  "language_info": {
   "codemirror_mode": {
    "name": "ipython",
    "version": 3
   },
   "file_extension": ".py",
   "mimetype": "text/x-python",
   "name": "python",
   "nbconvert_exporter": "python",
   "pygments_lexer": "ipython3",
   "version": "3.7.4"
  }
 },
 "nbformat": 4,
 "nbformat_minor": 2
}
